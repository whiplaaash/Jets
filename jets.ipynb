{
 "cells": [
  {
   "cell_type": "markdown",
   "id": "0afa2e94",
   "metadata": {},
   "source": [
    "# Jets"
   ]
  },
  {
   "cell_type": "markdown",
   "id": "6f990248",
   "metadata": {},
   "source": [
    "Jets are bunches of ultrarelativistic particles carrying a colour charge and they are produced in heavy-ion collisions. These are studied i.e. in CERN. One collision is called one event. In each event an arbitrary number of jets (and other particles) can be produced.\n",
    "\n",
    "In this project we consider a sample of data taken from CERN to analyze momenta and energies of jets. Because we deal with around 150 events, and in each event a number from 0 to 8 jets can be produced the problem is of statistical nature."
   ]
  },
  {
   "cell_type": "markdown",
   "id": "0be3f19c",
   "metadata": {},
   "source": [
    "## Load libraries"
   ]
  },
  {
   "cell_type": "code",
   "execution_count": 1,
   "id": "da472509",
   "metadata": {},
   "outputs": [],
   "source": [
    "import pandas as pd\n",
    "import numpy as np\n",
    "\n",
    "# Import \"uproot\" to uproot data written in root, as in CERN\n",
    "import uproot"
   ]
  },
  {
   "cell_type": "markdown",
   "id": "4b988138",
   "metadata": {},
   "source": [
    "## Load data"
   ]
  },
  {
   "cell_type": "code",
   "execution_count": 2,
   "id": "c3a9653b",
   "metadata": {},
   "outputs": [],
   "source": [
    "# The file which we are using is taken from the CERN website \"http://opendata.cern.ch/record/211\".\n",
    "# To understand physics behind the data one can use the tutorial provided at this website.\n",
    "\n",
    "data = uproot.open(\"qcd.root\")"
   ]
  },
  {
   "cell_type": "markdown",
   "id": "61a4bc41",
   "metadata": {},
   "source": [
    "## Check what the file contains"
   ]
  },
  {
   "cell_type": "code",
   "execution_count": 3,
   "id": "e2bcfd64",
   "metadata": {},
   "outputs": [
    {
     "data": {
      "text/plain": [
       "['events;1']"
      ]
     },
     "execution_count": 3,
     "metadata": {},
     "output_type": "execute_result"
    }
   ],
   "source": [
    "data.keys()"
   ]
  },
  {
   "cell_type": "code",
   "execution_count": 4,
   "id": "0943b509-2f11-4aaa-a93f-532eb4383089",
   "metadata": {},
   "outputs": [],
   "source": [
    "tree = data[\"events\"]\n",
    "#tree.keys()"
   ]
  },
  {
   "cell_type": "markdown",
   "id": "2da4db9e-3b94-4dcb-a77e-81e77df9b8d5",
   "metadata": {},
   "source": [
    "Apart from data on jets, the file contains data on produced particles which do not carry a colour charge, but they carry electric charge or no charge. We focus only on jets, but other cases can be analysed in a similar way."
   ]
  },
  {
   "cell_type": "code",
   "execution_count": 5,
   "id": "2a8a921c",
   "metadata": {},
   "outputs": [],
   "source": [
    "photons = tree.arrays([\"Photon_Px\",\"Photon_Py\"])\n",
    "#photons"
   ]
  },
  {
   "cell_type": "code",
   "execution_count": 6,
   "id": "5ca5fe16",
   "metadata": {},
   "outputs": [],
   "source": [
    "eventWeight = tree.arrays([\"EventWeight\"])\n",
    "#eventWeight"
   ]
  },
  {
   "cell_type": "markdown",
   "id": "2463094d",
   "metadata": {},
   "source": [
    "## Single event (one row)"
   ]
  },
  {
   "cell_type": "code",
   "execution_count": 7,
   "id": "191644be",
   "metadata": {},
   "outputs": [
    {
     "data": {
      "text/html": [
       "<div>\n",
       "<style scoped>\n",
       "    .dataframe tbody tr th:only-of-type {\n",
       "        vertical-align: middle;\n",
       "    }\n",
       "\n",
       "    .dataframe tbody tr th {\n",
       "        vertical-align: top;\n",
       "    }\n",
       "\n",
       "    .dataframe thead th {\n",
       "        text-align: right;\n",
       "    }\n",
       "</style>\n",
       "<table border=\"1\" class=\"dataframe\">\n",
       "  <thead>\n",
       "    <tr style=\"text-align: right;\">\n",
       "      <th></th>\n",
       "      <th>Jet_Px</th>\n",
       "      <th>Jet_Py</th>\n",
       "      <th>Jet_Pz</th>\n",
       "      <th>Jet_E</th>\n",
       "    </tr>\n",
       "  </thead>\n",
       "  <tbody>\n",
       "    <tr>\n",
       "      <th>0</th>\n",
       "      <td>[-207.25, 129.87, 48.95, 28.59]</td>\n",
       "      <td>[92.15, -28.94, -18.83, -33.63]</td>\n",
       "      <td>[18.91, -182.83, 275.48, 9.37]</td>\n",
       "      <td>[229.07, 226.99, 280.72, 46.77]</td>\n",
       "    </tr>\n",
       "  </tbody>\n",
       "</table>\n",
       "</div>"
      ],
      "text/plain": [
       "                            Jet_Px                           Jet_Py  \\\n",
       "0  [-207.25, 129.87, 48.95, 28.59]  [92.15, -28.94, -18.83, -33.63]   \n",
       "\n",
       "                           Jet_Pz                            Jet_E  \n",
       "0  [18.91, -182.83, 275.48, 9.37]  [229.07, 226.99, 280.72, 46.77]  "
      ]
     },
     "execution_count": 7,
     "metadata": {},
     "output_type": "execute_result"
    }
   ],
   "source": [
    "jets = tree.arrays([\"NJet\",\"Jet_Px\",\"Jet_Py\",\"Jet_Pz\",\"Jet_E\"])\n",
    "\n",
    "# Jets are represented by:\n",
    "\n",
    "# N - number of jets produced in a single event. Note that N can be different in each event:\n",
    "N = jets[\"NJet\"][0]\n",
    "\n",
    "# Momentum coordinates in x, y, z directions. Each variable represents a list of N produced jets:\n",
    "Px = jets[\"Jet_Px\"][0]\n",
    "Py = jets[\"Jet_Py\"][0]\n",
    "Pz = jets[\"Jet_Pz\"][0]\n",
    "\n",
    "# Energy of jets:\n",
    "E = jets[\"Jet_E\"][0]\n",
    "\n",
    "# Single event can be defined by a dictionary:\n",
    "singleEvent = {\"Jet_Px\": Px, \"Jet_Py\": Py, \"Jet_Pz\": Pz, \"Jet_E\": E}\n",
    "\n",
    "# Create a function to provide events in a list form and to round float numbers:\n",
    "def singleEventList(**x): \n",
    "    for key, val in x.items():\n",
    "        s = []\n",
    "        val = val.tolist()\n",
    "        val = np.round(val,2)\n",
    "        s.append(val)\n",
    "        x[key] = s\n",
    "    return x\n",
    "\n",
    "# Create a Data Frame for a single event:\n",
    "singleEventFrame = pd.DataFrame(singleEventList(**singleEvent))\n",
    "singleEventFrame"
   ]
  },
  {
   "cell_type": "markdown",
   "id": "e40ae958",
   "metadata": {},
   "source": [
    "## All events"
   ]
  },
  {
   "cell_type": "code",
   "execution_count": 8,
   "id": "3ddeb2cc",
   "metadata": {},
   "outputs": [],
   "source": [
    "# Number of jets and four-momentum coordinates for all events:\n",
    "nEvents = jets[\"NJet\"]\n",
    "xMom = jets[\"Jet_Px\"]\n",
    "yMom = jets[\"Jet_Py\"]\n",
    "zMom = jets[\"Jet_Pz\"]\n",
    "energy = jets[\"Jet_E\"]\n",
    "\n",
    "# Isolate the four-momentum from the number of jets, because each event for each component is an array, \n",
    "# and not just a number:\n",
    "fourMomentum = {\"JetPx\":xMom, \"JetPy\":yMom, \"JetPz\":zMom, \"JetE\":energy}"
   ]
  },
  {
   "cell_type": "markdown",
   "id": "f18dde53",
   "metadata": {},
   "source": [
    "### One column - Px component"
   ]
  },
  {
   "cell_type": "code",
   "execution_count": 19,
   "id": "f9f92549",
   "metadata": {},
   "outputs": [],
   "source": [
    "# Define a function which creates a list of Px component for all events, \n",
    "# where each event is also represented by a list:\n",
    "xCol = []\n",
    "for i in xMom:\n",
    "    if len(i)>0:\n",
    "        vals = {}\n",
    "        i = i.tolist()\n",
    "        i = np.round(i,2)\n",
    "        vals[\"Px\"] = i\n",
    "        xCol.append(vals)\n",
    "\n",
    "#xCol"
   ]
  },
  {
   "cell_type": "markdown",
   "id": "d6acfe65",
   "metadata": {},
   "source": [
    "### All columns"
   ]
  },
  {
   "cell_type": "code",
   "execution_count": 10,
   "id": "5eee776d",
   "metadata": {},
   "outputs": [
    {
     "data": {
      "text/html": [
       "<div>\n",
       "<style scoped>\n",
       "    .dataframe tbody tr th:only-of-type {\n",
       "        vertical-align: middle;\n",
       "    }\n",
       "\n",
       "    .dataframe tbody tr th {\n",
       "        vertical-align: top;\n",
       "    }\n",
       "\n",
       "    .dataframe thead th {\n",
       "        text-align: right;\n",
       "    }\n",
       "</style>\n",
       "<table border=\"1\" class=\"dataframe\">\n",
       "  <thead>\n",
       "    <tr style=\"text-align: right;\">\n",
       "      <th></th>\n",
       "      <th>NJet</th>\n",
       "      <th>JetPx</th>\n",
       "      <th>JetPy</th>\n",
       "      <th>JetPz</th>\n",
       "      <th>JetE</th>\n",
       "    </tr>\n",
       "  </thead>\n",
       "  <tbody>\n",
       "    <tr>\n",
       "      <th>0</th>\n",
       "      <td>4</td>\n",
       "      <td>[-207.25, 129.87, 48.95, 28.59]</td>\n",
       "      <td>[92.15, -28.94, -18.83, -33.63]</td>\n",
       "      <td>[18.91, -182.83, 275.48, 9.37]</td>\n",
       "      <td>[229.07, 226.99, 280.72, 46.77]</td>\n",
       "    </tr>\n",
       "    <tr>\n",
       "      <th>1</th>\n",
       "      <td>4</td>\n",
       "      <td>[-138.04, 126.42, 30.45, -19.39]</td>\n",
       "      <td>[-40.1, 32.83, 31.06, -23.21]</td>\n",
       "      <td>[9.22, 48.83, -74.05, 37.53]</td>\n",
       "      <td>[145.06, 139.59, 86.09, 48.55]</td>\n",
       "    </tr>\n",
       "    <tr>\n",
       "      <th>2</th>\n",
       "      <td>1</td>\n",
       "      <td>[1.48]</td>\n",
       "      <td>[35.45]</td>\n",
       "      <td>[159.65]</td>\n",
       "      <td>[163.68]</td>\n",
       "    </tr>\n",
       "    <tr>\n",
       "      <th>3</th>\n",
       "      <td>2</td>\n",
       "      <td>[53.27, -46.61]</td>\n",
       "      <td>[-34.74, 18.75]</td>\n",
       "      <td>[-364.0, 49.85]</td>\n",
       "      <td>[369.77, 71.07]</td>\n",
       "    </tr>\n",
       "    <tr>\n",
       "      <th>4</th>\n",
       "      <td>2</td>\n",
       "      <td>[531.53, -503.55]</td>\n",
       "      <td>[1652.4, -1532.58]</td>\n",
       "      <td>[-1289.7, 799.83]</td>\n",
       "      <td>[2163.85, 1802.55]</td>\n",
       "    </tr>\n",
       "    <tr>\n",
       "      <th>...</th>\n",
       "      <td>...</td>\n",
       "      <td>...</td>\n",
       "      <td>...</td>\n",
       "      <td>...</td>\n",
       "      <td>...</td>\n",
       "    </tr>\n",
       "    <tr>\n",
       "      <th>132</th>\n",
       "      <td>5</td>\n",
       "      <td>[-264.35, 126.11, 98.11, -0.05, 21.43]</td>\n",
       "      <td>[36.02, 5.44, -10.87, -48.51, 32.15]</td>\n",
       "      <td>[34.93, 324.29, -53.3, 31.2, 79.71]</td>\n",
       "      <td>[270.68, 348.63, 112.88, 58.03, 88.87]</td>\n",
       "    </tr>\n",
       "    <tr>\n",
       "      <th>133</th>\n",
       "      <td>1</td>\n",
       "      <td>[-11.32]</td>\n",
       "      <td>[-77.07]</td>\n",
       "      <td>[372.57]</td>\n",
       "      <td>[380.84]</td>\n",
       "    </tr>\n",
       "    <tr>\n",
       "      <th>134</th>\n",
       "      <td>5</td>\n",
       "      <td>[-103.43, 100.06, 24.93, 10.93, -10.29]</td>\n",
       "      <td>[561.3, -370.4, -120.43, -39.43, -28.19]</td>\n",
       "      <td>[-551.99, -289.18, 4.78, -82.94, -11.91]</td>\n",
       "      <td>[795.92, 483.51, 123.73, 93.12, 32.72]</td>\n",
       "    </tr>\n",
       "    <tr>\n",
       "      <th>135</th>\n",
       "      <td>1</td>\n",
       "      <td>[4.97]</td>\n",
       "      <td>[77.29]</td>\n",
       "      <td>[53.56]</td>\n",
       "      <td>[94.85]</td>\n",
       "    </tr>\n",
       "    <tr>\n",
       "      <th>136</th>\n",
       "      <td>2</td>\n",
       "      <td>[14.6, 21.08]</td>\n",
       "      <td>[-133.05, -22.17]</td>\n",
       "      <td>[272.33, -126.58]</td>\n",
       "      <td>[304.1, 130.48]</td>\n",
       "    </tr>\n",
       "  </tbody>\n",
       "</table>\n",
       "<p>137 rows × 5 columns</p>\n",
       "</div>"
      ],
      "text/plain": [
       "     NJet                                    JetPx  \\\n",
       "0       4          [-207.25, 129.87, 48.95, 28.59]   \n",
       "1       4         [-138.04, 126.42, 30.45, -19.39]   \n",
       "2       1                                   [1.48]   \n",
       "3       2                          [53.27, -46.61]   \n",
       "4       2                        [531.53, -503.55]   \n",
       "..    ...                                      ...   \n",
       "132     5   [-264.35, 126.11, 98.11, -0.05, 21.43]   \n",
       "133     1                                 [-11.32]   \n",
       "134     5  [-103.43, 100.06, 24.93, 10.93, -10.29]   \n",
       "135     1                                   [4.97]   \n",
       "136     2                            [14.6, 21.08]   \n",
       "\n",
       "                                        JetPy  \\\n",
       "0             [92.15, -28.94, -18.83, -33.63]   \n",
       "1               [-40.1, 32.83, 31.06, -23.21]   \n",
       "2                                     [35.45]   \n",
       "3                             [-34.74, 18.75]   \n",
       "4                          [1652.4, -1532.58]   \n",
       "..                                        ...   \n",
       "132      [36.02, 5.44, -10.87, -48.51, 32.15]   \n",
       "133                                  [-77.07]   \n",
       "134  [561.3, -370.4, -120.43, -39.43, -28.19]   \n",
       "135                                   [77.29]   \n",
       "136                         [-133.05, -22.17]   \n",
       "\n",
       "                                        JetPz  \\\n",
       "0              [18.91, -182.83, 275.48, 9.37]   \n",
       "1                [9.22, 48.83, -74.05, 37.53]   \n",
       "2                                    [159.65]   \n",
       "3                             [-364.0, 49.85]   \n",
       "4                           [-1289.7, 799.83]   \n",
       "..                                        ...   \n",
       "132       [34.93, 324.29, -53.3, 31.2, 79.71]   \n",
       "133                                  [372.57]   \n",
       "134  [-551.99, -289.18, 4.78, -82.94, -11.91]   \n",
       "135                                   [53.56]   \n",
       "136                         [272.33, -126.58]   \n",
       "\n",
       "                                       JetE  \n",
       "0           [229.07, 226.99, 280.72, 46.77]  \n",
       "1            [145.06, 139.59, 86.09, 48.55]  \n",
       "2                                  [163.68]  \n",
       "3                           [369.77, 71.07]  \n",
       "4                        [2163.85, 1802.55]  \n",
       "..                                      ...  \n",
       "132  [270.68, 348.63, 112.88, 58.03, 88.87]  \n",
       "133                                [380.84]  \n",
       "134  [795.92, 483.51, 123.73, 93.12, 32.72]  \n",
       "135                                 [94.85]  \n",
       "136                         [304.1, 130.48]  \n",
       "\n",
       "[137 rows x 5 columns]"
      ]
     },
     "execution_count": 10,
     "metadata": {},
     "output_type": "execute_result"
    }
   ],
   "source": [
    "#pd.set_option(\"display.max_rows\", None)\n",
    "\n",
    "# Define a function to create a DataFrame for all events\n",
    "def jetsAllEvents(**x):\n",
    "    result = pd.DataFrame()\n",
    "    for key in x.keys():\n",
    "        col = []\n",
    "        name = str(key)\n",
    "        for value in x[key]:\n",
    "            value = value.tolist()\n",
    "            value = np.round(value,2)\n",
    "            col.append(value)\n",
    "        result[name] = col\n",
    "    return result\n",
    "\n",
    "jetsAllFourMomenta = jetsAllEvents(**fourMomentum)\n",
    "\n",
    "# Add a column with number of jets:\n",
    "jetsAllFourMomenta.insert(loc=0, column=\"NJet\", value=nEvents)\n",
    "\n",
    "# Delete empty events and clean:\n",
    "jetsAllFourMomenta.drop(axis=\"rows\", labels=[28,51,61,95,97], inplace=True)\n",
    "\n",
    "jetsAllFourMomenta.reset_index(inplace=True)\n",
    "del jetsAllFourMomenta[\"index\"]\n",
    "jetsAllFourMomenta\n"
   ]
  },
  {
   "cell_type": "code",
   "execution_count": 11,
   "id": "cbbb62be",
   "metadata": {},
   "outputs": [
    {
     "data": {
      "text/html": [
       "<div>\n",
       "<style scoped>\n",
       "    .dataframe tbody tr th:only-of-type {\n",
       "        vertical-align: middle;\n",
       "    }\n",
       "\n",
       "    .dataframe tbody tr th {\n",
       "        vertical-align: top;\n",
       "    }\n",
       "\n",
       "    .dataframe thead th {\n",
       "        text-align: right;\n",
       "    }\n",
       "</style>\n",
       "<table border=\"1\" class=\"dataframe\">\n",
       "  <thead>\n",
       "    <tr style=\"text-align: right;\">\n",
       "      <th></th>\n",
       "      <th>NJet</th>\n",
       "      <th>JetE</th>\n",
       "    </tr>\n",
       "  </thead>\n",
       "  <tbody>\n",
       "    <tr>\n",
       "      <th>0</th>\n",
       "      <td>4</td>\n",
       "      <td>[229.07, 226.99, 280.72, 46.77]</td>\n",
       "    </tr>\n",
       "    <tr>\n",
       "      <th>1</th>\n",
       "      <td>4</td>\n",
       "      <td>[145.06, 139.59, 86.09, 48.55]</td>\n",
       "    </tr>\n",
       "    <tr>\n",
       "      <th>2</th>\n",
       "      <td>1</td>\n",
       "      <td>[163.68]</td>\n",
       "    </tr>\n",
       "    <tr>\n",
       "      <th>3</th>\n",
       "      <td>2</td>\n",
       "      <td>[369.77, 71.07]</td>\n",
       "    </tr>\n",
       "    <tr>\n",
       "      <th>4</th>\n",
       "      <td>2</td>\n",
       "      <td>[2163.85, 1802.55]</td>\n",
       "    </tr>\n",
       "    <tr>\n",
       "      <th>...</th>\n",
       "      <td>...</td>\n",
       "      <td>...</td>\n",
       "    </tr>\n",
       "    <tr>\n",
       "      <th>132</th>\n",
       "      <td>5</td>\n",
       "      <td>[270.68, 348.63, 112.88, 58.03, 88.87]</td>\n",
       "    </tr>\n",
       "    <tr>\n",
       "      <th>133</th>\n",
       "      <td>1</td>\n",
       "      <td>[380.84]</td>\n",
       "    </tr>\n",
       "    <tr>\n",
       "      <th>134</th>\n",
       "      <td>5</td>\n",
       "      <td>[795.92, 483.51, 123.73, 93.12, 32.72]</td>\n",
       "    </tr>\n",
       "    <tr>\n",
       "      <th>135</th>\n",
       "      <td>1</td>\n",
       "      <td>[94.85]</td>\n",
       "    </tr>\n",
       "    <tr>\n",
       "      <th>136</th>\n",
       "      <td>2</td>\n",
       "      <td>[304.1, 130.48]</td>\n",
       "    </tr>\n",
       "  </tbody>\n",
       "</table>\n",
       "<p>137 rows × 2 columns</p>\n",
       "</div>"
      ],
      "text/plain": [
       "     NJet                                    JetE\n",
       "0       4         [229.07, 226.99, 280.72, 46.77]\n",
       "1       4          [145.06, 139.59, 86.09, 48.55]\n",
       "2       1                                [163.68]\n",
       "3       2                         [369.77, 71.07]\n",
       "4       2                      [2163.85, 1802.55]\n",
       "..    ...                                     ...\n",
       "132     5  [270.68, 348.63, 112.88, 58.03, 88.87]\n",
       "133     1                                [380.84]\n",
       "134     5  [795.92, 483.51, 123.73, 93.12, 32.72]\n",
       "135     1                                 [94.85]\n",
       "136     2                         [304.1, 130.48]\n",
       "\n",
       "[137 rows x 2 columns]"
      ]
     },
     "execution_count": 11,
     "metadata": {},
     "output_type": "execute_result"
    }
   ],
   "source": [
    "jetsEnergy = jetsAllFourMomenta[[\"NJet\", \"JetE\"]].copy()\n",
    "jetsEnergy\n"
   ]
  },
  {
   "cell_type": "code",
   "execution_count": 12,
   "id": "53113e9c",
   "metadata": {},
   "outputs": [
    {
     "data": {
      "text/plain": [
       "array([14, 59, 36, 13, 11,  2,  1,  1])"
      ]
     },
     "execution_count": 12,
     "metadata": {},
     "output_type": "execute_result"
    }
   ],
   "source": [
    "energyList = jetsEnergy[\"JetE\"].tolist()\n",
    "energyList\n",
    "\n",
    "# Define a function to calculate the mean of energy of each event and round the numbers:\n",
    "g = []\n",
    "def energyAvgFunk(*x):\n",
    "    for i in x:\n",
    "        k = np.mean(i)\n",
    "        k = k.round(2)\n",
    "        g.append(k)\n",
    "    return g\n",
    "\n",
    "# Call the function:\n",
    "energyAvg = energyAvgFunk(*energyList)\n",
    "    \n",
    "# Create a Series of energy averages:\n",
    "energyAvgSeries = pd.Series(energyAvg)\n",
    "\n",
    "# Add a column:\n",
    "jetsEnergy[\"AvgE\"] = energyAvgSeries\n",
    "\n",
    "# Prepare statistics for the number of jets produced in each event:\n",
    "jetsEnergy = jetsEnergy.sort_values(by=[\"NJet\"]).dropna()\n",
    "jetsEnergyCounts = jetsEnergy[\"NJet\"].value_counts().sort_index()\n",
    "\n",
    "# Get index and values of the series:\n",
    "jetsEnergyCounts.index\n",
    "jetsEnergyCounts.values\n",
    "\n"
   ]
  },
  {
   "cell_type": "markdown",
   "id": "09947eaa",
   "metadata": {},
   "source": [
    "## Frequency of number of produced jets occurence"
   ]
  },
  {
   "cell_type": "code",
   "execution_count": 13,
   "id": "1456e647",
   "metadata": {},
   "outputs": [
    {
     "data": {
      "text/plain": [
       "<AxesSubplot:>"
      ]
     },
     "execution_count": 13,
     "metadata": {},
     "output_type": "execute_result"
    },
    {
     "data": {
      "image/png": "[encoded data removed]",
      "text/plain": [
       "<Figure size 640x480 with 1 Axes>"
      ]
     },
     "metadata": {},
     "output_type": "display_data"
    }
   ],
   "source": [
    "import matplotlib\n",
    "import matplotlib.pyplot as plt\n",
    "%matplotlib inline \n",
    "\n",
    "# Frequency of N occurence:\n",
    "jetsEnergyCounts.plot(kind=\"bar\")"
   ]
  },
  {
   "cell_type": "code",
   "execution_count": 14,
   "id": "8be6b4d8",
   "metadata": {},
   "outputs": [
    {
     "data": {
      "text/plain": [
       "<matplotlib.collections.PathCollection at 0x7f5cc6d25790>"
      ]
     },
     "execution_count": 14,
     "metadata": {},
     "output_type": "execute_result"
    },
    {
     "data": {
      "image/png": "[encoded data removed]",
      "text/plain": [
       "<Figure size 640x480 with 1 Axes>"
      ]
     },
     "metadata": {},
     "output_type": "display_data"
    }
   ],
   "source": [
    "x = jetsEnergyCounts.index\n",
    "y = jetsEnergyCounts.values\n",
    "\n",
    "plt.scatter(x, y)"
   ]
  },
  {
   "cell_type": "markdown",
   "id": "582f0980",
   "metadata": {},
   "source": [
    "## Distribution of average jets energy"
   ]
  },
  {
   "cell_type": "code",
   "execution_count": 15,
   "id": "ae7076ed",
   "metadata": {},
   "outputs": [
    {
     "data": {
      "text/plain": [
       "<AxesSubplot:xlabel='NJet', ylabel='AvgE'>"
      ]
     },
     "execution_count": 15,
     "metadata": {},
     "output_type": "execute_result"
    },
    {
     "data": {
      "image/png": "[encoded data removed]",
      "text/plain": [
       "<Figure size 640x480 with 1 Axes>"
      ]
     },
     "metadata": {},
     "output_type": "display_data"
    }
   ],
   "source": [
    "# Average energy distribution as a function of the number of jets produced:\n",
    "\n",
    "jetsEnergy.plot(kind=\"scatter\", x=\"NJet\", y=\"AvgE\")"
   ]
  },
  {
   "cell_type": "code",
   "execution_count": 16,
   "id": "53c2232e",
   "metadata": {},
   "outputs": [
    {
     "data": {
      "text/plain": [
       "<AxesSubplot:title={'center':'Average Energy'}, xlabel='NJet', ylabel='AvgE'>"
      ]
     },
     "execution_count": 16,
     "metadata": {},
     "output_type": "execute_result"
    },
    {
     "data": {
      "image/png": "[encoded data removed]",
      "text/plain": [
       "<Figure size 640x480 with 2 Axes>"
      ]
     },
     "metadata": {},
     "output_type": "display_data"
    }
   ],
   "source": [
    "# Average energy density:\n",
    "\n",
    "jetsEnergy.plot.hexbin(x=\"NJet\", y=\"AvgE\", gridsize=15, title=\"Average Energy\")"
   ]
  },
  {
   "cell_type": "markdown",
   "id": "3fe26bf2",
   "metadata": {},
   "source": [
    "## Maximal and minimal energy of each event"
   ]
  },
  {
   "cell_type": "code",
   "execution_count": 17,
   "id": "55e28b6b",
   "metadata": {},
   "outputs": [
    {
     "data": {
      "text/html": [
       "<div>\n",
       "<style scoped>\n",
       "    .dataframe tbody tr th:only-of-type {\n",
       "        vertical-align: middle;\n",
       "    }\n",
       "\n",
       "    .dataframe tbody tr th {\n",
       "        vertical-align: top;\n",
       "    }\n",
       "\n",
       "    .dataframe thead th {\n",
       "        text-align: right;\n",
       "    }\n",
       "</style>\n",
       "<table border=\"1\" class=\"dataframe\">\n",
       "  <thead>\n",
       "    <tr style=\"text-align: right;\">\n",
       "      <th></th>\n",
       "      <th>NJet</th>\n",
       "      <th>JetE</th>\n",
       "      <th>AvgE</th>\n",
       "      <th>MaxE</th>\n",
       "      <th>MinE</th>\n",
       "      <th>DiffE</th>\n",
       "    </tr>\n",
       "  </thead>\n",
       "  <tbody>\n",
       "    <tr>\n",
       "      <th>0</th>\n",
       "      <td>2.0</td>\n",
       "      <td>[80.48, 115.8]</td>\n",
       "      <td>98.14</td>\n",
       "      <td>115.80</td>\n",
       "      <td>80.48</td>\n",
       "      <td>35.32</td>\n",
       "    </tr>\n",
       "    <tr>\n",
       "      <th>32</th>\n",
       "      <td>2.0</td>\n",
       "      <td>[351.52, 144.9]</td>\n",
       "      <td>248.21</td>\n",
       "      <td>351.52</td>\n",
       "      <td>144.90</td>\n",
       "      <td>206.62</td>\n",
       "    </tr>\n",
       "    <tr>\n",
       "      <th>33</th>\n",
       "      <td>2.0</td>\n",
       "      <td>[330.11, 175.61]</td>\n",
       "      <td>252.86</td>\n",
       "      <td>330.11</td>\n",
       "      <td>175.61</td>\n",
       "      <td>154.50</td>\n",
       "    </tr>\n",
       "    <tr>\n",
       "      <th>34</th>\n",
       "      <td>2.0</td>\n",
       "      <td>[215.39, 48.76]</td>\n",
       "      <td>132.07</td>\n",
       "      <td>215.39</td>\n",
       "      <td>48.76</td>\n",
       "      <td>166.63</td>\n",
       "    </tr>\n",
       "    <tr>\n",
       "      <th>35</th>\n",
       "      <td>2.0</td>\n",
       "      <td>[38.13, 188.89]</td>\n",
       "      <td>113.51</td>\n",
       "      <td>188.89</td>\n",
       "      <td>38.13</td>\n",
       "      <td>150.76</td>\n",
       "    </tr>\n",
       "    <tr>\n",
       "      <th>...</th>\n",
       "      <td>...</td>\n",
       "      <td>...</td>\n",
       "      <td>...</td>\n",
       "      <td>...</td>\n",
       "      <td>...</td>\n",
       "      <td>...</td>\n",
       "    </tr>\n",
       "    <tr>\n",
       "      <th>113</th>\n",
       "      <td>5.0</td>\n",
       "      <td>[234.14, 110.16, 67.21, 59.86, 31.69]</td>\n",
       "      <td>100.61</td>\n",
       "      <td>234.14</td>\n",
       "      <td>31.69</td>\n",
       "      <td>202.45</td>\n",
       "    </tr>\n",
       "    <tr>\n",
       "      <th>119</th>\n",
       "      <td>6.0</td>\n",
       "      <td>[779.29, 388.39, 204.37, 43.81, 50.6, 53.12]</td>\n",
       "      <td>253.26</td>\n",
       "      <td>779.29</td>\n",
       "      <td>43.81</td>\n",
       "      <td>735.48</td>\n",
       "    </tr>\n",
       "    <tr>\n",
       "      <th>120</th>\n",
       "      <td>6.0</td>\n",
       "      <td>[311.01, 235.68, 283.09, 157.32, 63.25, 68.02]</td>\n",
       "      <td>186.40</td>\n",
       "      <td>311.01</td>\n",
       "      <td>63.25</td>\n",
       "      <td>247.76</td>\n",
       "    </tr>\n",
       "    <tr>\n",
       "      <th>121</th>\n",
       "      <td>7.0</td>\n",
       "      <td>[484.74, 590.41, 285.23, 185.33, 90.62, 50.86,...</td>\n",
       "      <td>245.80</td>\n",
       "      <td>590.41</td>\n",
       "      <td>33.40</td>\n",
       "      <td>557.01</td>\n",
       "    </tr>\n",
       "    <tr>\n",
       "      <th>122</th>\n",
       "      <td>8.0</td>\n",
       "      <td>[285.48, 788.82, 783.19, 105.22, 139.86, 82.52...</td>\n",
       "      <td>313.25</td>\n",
       "      <td>788.82</td>\n",
       "      <td>82.52</td>\n",
       "      <td>706.30</td>\n",
       "    </tr>\n",
       "  </tbody>\n",
       "</table>\n",
       "<p>123 rows × 6 columns</p>\n",
       "</div>"
      ],
      "text/plain": [
       "     NJet                                               JetE    AvgE    MaxE  \\\n",
       "0     2.0                                     [80.48, 115.8]   98.14  115.80   \n",
       "32    2.0                                    [351.52, 144.9]  248.21  351.52   \n",
       "33    2.0                                   [330.11, 175.61]  252.86  330.11   \n",
       "34    2.0                                    [215.39, 48.76]  132.07  215.39   \n",
       "35    2.0                                    [38.13, 188.89]  113.51  188.89   \n",
       "..    ...                                                ...     ...     ...   \n",
       "113   5.0              [234.14, 110.16, 67.21, 59.86, 31.69]  100.61  234.14   \n",
       "119   6.0       [779.29, 388.39, 204.37, 43.81, 50.6, 53.12]  253.26  779.29   \n",
       "120   6.0     [311.01, 235.68, 283.09, 157.32, 63.25, 68.02]  186.40  311.01   \n",
       "121   7.0  [484.74, 590.41, 285.23, 185.33, 90.62, 50.86,...  245.80  590.41   \n",
       "122   8.0  [285.48, 788.82, 783.19, 105.22, 139.86, 82.52...  313.25  788.82   \n",
       "\n",
       "       MinE   DiffE  \n",
       "0     80.48   35.32  \n",
       "32   144.90  206.62  \n",
       "33   175.61  154.50  \n",
       "34    48.76  166.63  \n",
       "35    38.13  150.76  \n",
       "..      ...     ...  \n",
       "113   31.69  202.45  \n",
       "119   43.81  735.48  \n",
       "120   63.25  247.76  \n",
       "121   33.40  557.01  \n",
       "122   82.52  706.30  \n",
       "\n",
       "[123 rows x 6 columns]"
      ]
     },
     "execution_count": 17,
     "metadata": {},
     "output_type": "execute_result"
    }
   ],
   "source": [
    "import matplotlib.pyplot as plt\n",
    "\n",
    "energyMaxMin = jetsEnergy.copy()\n",
    "\n",
    "# Add a column with the number of jets:\n",
    "valueNJet = energyMaxMin[\"NJet\"]\n",
    "\n",
    "# Clean (max and min energy are calculated only from the lists where there are at least 2 elements):\n",
    "energyMaxMin = energyMaxMin.where(valueNJet>1).dropna()\n",
    "energyMaxMin.reset_index(inplace=True)\n",
    "\n",
    "del energyMaxMin[\"index\"]\n",
    "\n",
    "energyMxMnList = energyMaxMin[\"JetE\"].tolist()\n",
    "\n",
    "# Define a function to calculate the mean of energy of each event and rounds the numbers:\n",
    "energyMax = []\n",
    "energyMin = []\n",
    "\n",
    "def energyMxMnFunk(*x):\n",
    "    for i in x:\n",
    "        mx = max(i)\n",
    "        mn = min(i)\n",
    "        mx = mx.round(2)\n",
    "        mn = mn.round(2)\n",
    "        energyMax.append(mx)\n",
    "        energyMin.append(mn)\n",
    "    return energyMax, energyMin\n",
    "\n",
    "# Call the function:\n",
    "energyMxMn = energyMxMnFunk(*energyMxMnList)\n",
    "\n",
    "# Collect information about energy aggregations in a DataFrame:\n",
    "energyMxMnFrame = pd.DataFrame(energyMxMn)\n",
    "energyMxMnFrame = energyMxMnFrame.transpose()\n",
    "energyMxMnFrame.rename(columns = {0:\"MaxE\", 1:\"MinE\"}, inplace=True)\n",
    "energyMxMnFrame\n",
    "energyMxMnFrame[\"DiffE\"] = energyMxMnFrame[\"MaxE\"] - energyMxMnFrame[\"MinE\"]\n",
    "\n",
    "# Combine old DataFrame on energy with new columns:\n",
    "energyStatsFrame = energyMaxMin.join(energyMxMnFrame)\n",
    "energyStatsFrame = energyStatsFrame.sort_values(by = [\"NJet\"])\n",
    "\n",
    "energyStatsFrame"
   ]
  },
  {
   "cell_type": "code",
   "execution_count": 18,
   "id": "e4c7af28",
   "metadata": {},
   "outputs": [
    {
     "data": {
      "image/png": "[encoded data removed]",
      "text/plain": [
       "<Figure size 640x480 with 1 Axes>"
      ]
     },
     "metadata": {},
     "output_type": "display_data"
    },
    {
     "data": {
      "image/png": "[encoded data removed]",
      "text/plain": [
       "<Figure size 640x480 with 1 Axes>"
      ]
     },
     "metadata": {},
     "output_type": "display_data"
    }
   ],
   "source": [
    "energyStatsFrame.plot(kind=\"scatter\", x=\"NJet\", y=\"DiffE\", color=\"red\")\n",
    "energyStatsFrame.plot(kind=\"scatter\", x=\"NJet\", y=\"MinE\")\n",
    "plt.show()"
   ]
  }
 ],
 "metadata": {
  "kernelspec": {
   "display_name": "Python 3 (ipykernel)",
   "language": "python",
   "name": "python3"
  },
  "language_info": {
   "codemirror_mode": {
    "name": "ipython",
    "version": 3
   },
   "file_extension": ".py",
   "mimetype": "text/x-python",
   "name": "python",
   "nbconvert_exporter": "python",
   "pygments_lexer": "ipython3",
   "version": "3.9.13"
  }
 },
 "nbformat": 4,
 "nbformat_minor": 5
}
